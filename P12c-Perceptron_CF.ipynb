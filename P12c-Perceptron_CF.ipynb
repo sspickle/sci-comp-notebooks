{
  "nbformat": 4,
  "nbformat_minor": 0,
  "metadata": {
    "colab": {
      "name": "Perceptron CF.ipynb",
      "provenance": [],
      "collapsed_sections": []
    },
    "kernelspec": {
      "name": "python3",
      "display_name": "Python 3"
    }
  },
  "cells": [
    {
      "cell_type": "markdown",
      "metadata": {
        "id": "9qkGKzEIlZh4"
      },
      "source": [
        "Apply perceptron to \"learn\" how to convert celcius to fahrenheit."
      ]
    },
    {
      "cell_type": "code",
      "metadata": {
        "id": "JnOty_n76ITm"
      },
      "source": [
        "import numpy as np\n",
        "import matplotlib.pyplot as plt\n",
        "\n",
        "x = np.array([\n",
        "    [1,-40],\n",
        "    [1,-10],\n",
        "    [1,0],\n",
        "    [1,8],\n",
        "    [1,15],\n",
        "    [1,22],\n",
        "    [1,38],\n",
        "], dtype=float)\n",
        "\n",
        "y = np.array([-40,  14, 32, 46, 59, 72, 100],  dtype=float)\n"
      ],
      "execution_count": 1,
      "outputs": []
    },
    {
      "cell_type": "code",
      "metadata": {
        "id": "WocNZF6z4HJd"
      },
      "source": [
        "\n",
        "def calc_error(y_arr, x_arr, w, train=False):\n",
        "    \"\"\"\n",
        "    calc_error computes the error for each input (+1 if it's wrong, 0 if it's correct)\n",
        "    \n",
        "    y_arr is the 1D array of known outputs\n",
        "    x_arr is the 2D array of inputs (N rows (number of samples), m+1 columns (number of inputs/sample))\n",
        "    w is the 1D array of weights (threshold + m weights)\n",
        "    train is True if training (updating of weights) is to occur as a side effect.\n",
        "\n",
        "    Returns: The sum of the absolute \"error\" found in iterating over all the samples\n",
        "    \"\"\"\n",
        "    \n",
        "    err_sum=0.0\n",
        "    \n",
        "    for j in range(len(y_arr)):\n",
        "        y_out = x_arr[j].dot(w)\n",
        "        err = y_arr[j]-y_out \n",
        "        \n",
        "        err_sum += abs(err)\n",
        "        if train:\n",
        "            dw = eta*err*x_arr[j]\n",
        "            w += eta*err*x_arr[j]                   # adjust the weights during training only\n",
        "\n",
        "    return err_sum\n",
        "    \n",
        "def train(y, x, w):\n",
        "    return calc_error(y, x, w, train=True)\n",
        "\n",
        "def test(y, x, w):\n",
        "    return calc_error(y, x, w)"
      ],
      "execution_count": null,
      "outputs": []
    },
    {
      "cell_type": "code",
      "metadata": {
        "id": "CefMa0ul5tOL",
        "colab": {
          "base_uri": "https://localhost:8080/",
          "height": 296
        },
        "outputId": "2adc8b23-5899-458a-ec5a-e0af12004ae6"
      },
      "source": [
        "eta=0.001 # how much should we \"nudge\" the weights each time?\n",
        "w = np.random.rand(len(x[0]))*.05  # random array of \"small\" weights\n",
        "\n",
        "err_test=[]\n",
        "err_train=[]\n",
        "train_iters=700\n",
        "for i in range(train_iters):\n",
        "    err_train.append(train(y, x, w))\n",
        "\n",
        "plt.title(\"Training and testing error.\")\n",
        "plt.plot(range(train_iters),err_train,'b', label=\"Train\")\n",
        "plt.xlabel(\"Iteration\")\n",
        "plt.ylabel(\"Error\")\n",
        "plt.legend()\n",
        "plt.grid()"
      ],
      "execution_count": null,
      "outputs": [
        {
          "output_type": "display_data",
          "data": {
            "image/png": "[encoded data removed]",
            "text/plain": [
              "<Figure size 432x288 with 1 Axes>"
            ]
          },
          "metadata": {
            "tags": []
          }
        }
      ]
    },
    {
      "cell_type": "code",
      "metadata": {
        "id": "YFdESvUf6wLZ",
        "colab": {
          "base_uri": "https://localhost:8080/",
          "height": 56
        },
        "outputId": "ca65655d-0244-4619-a3ea-878987be7651"
      },
      "source": [
        "print(w)"
      ],
      "execution_count": null,
      "outputs": [
        {
          "output_type": "stream",
          "text": [
            "[31.75337327  1.78801366]\n"
          ],
          "name": "stdout"
        }
      ]
    },
    {
      "cell_type": "code",
      "metadata": {
        "id": "O0Uk48UI-KzT",
        "colab": {
          "base_uri": "https://localhost:8080/",
          "height": 72
        },
        "outputId": "466e8bc0-568a-423b-855a-d48b99355e07"
      },
      "source": [
        "y_calc = x.dot(w)  # calculate the final \"y\" output for each x\n",
        "y_calc"
      ],
      "execution_count": null,
      "outputs": [
        {
          "output_type": "execute_result",
          "data": {
            "text/plain": [
              "array([-39.7671733 ,  13.87323663,  31.75337327,  46.05748259,\n",
              "        58.57357824,  71.08967389,  99.69789251])"
            ]
          },
          "metadata": {
            "tags": []
          },
          "execution_count": 13
        }
      ]
    },
    {
      "cell_type": "code",
      "metadata": {
        "id": "G5Yvmi4il5kk",
        "colab": {
          "base_uri": "https://localhost:8080/",
          "height": 313
        },
        "outputId": "69dd9918-a39d-4f64-fd04-4c399de879c5"
      },
      "source": [
        "#\n",
        "# compare model to data\n",
        "#\n",
        "plt.title(\"Perceptron output for each input\")\n",
        "plt.plot(x[:,1],y,'b.',label=\"training data\")\n",
        "plt.plot(x[:,1],y_calc,'r-', label=\"model\")\n",
        "plt.xlabel(\"T (C)\")\n",
        "plt.ylabel(\"T (F)\")\n",
        "plt.grid()\n",
        "plt.legend()"
      ],
      "execution_count": null,
      "outputs": [
        {
          "output_type": "execute_result",
          "data": {
            "text/plain": [
              "<matplotlib.legend.Legend at 0x7f0e4e91fbe0>"
            ]
          },
          "metadata": {
            "tags": []
          },
          "execution_count": 17
        },
        {
          "output_type": "display_data",
          "data": {
            "image/png": "[encoded data removed]",
            "text/plain": [
              "<Figure size 432x288 with 1 Axes>"
            ]
          },
          "metadata": {
            "tags": []
          }
        }
      ]
    },
    {
      "cell_type": "code",
      "metadata": {
        "id": "fSPabqxmmIFi"
      },
      "source": [
        ""
      ],
      "execution_count": null,
      "outputs": []
    }
  ]
}