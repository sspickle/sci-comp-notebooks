{
 "cells": [
  {
   "cell_type": "markdown",
   "metadata": {},
   "source": [
    "# Machine Learning\n",
    "\n",
    "So this is a peripheral topic relative to most of the concepts we've studied so far this semester, but it's an increasingly important area of computational technology and it's important to be aware of emerging tools in case they might be useful for a problem you encounter in your work. The idea is to create mechanisms for a machine (computer) to \"learn\" from data. One type of machine learning is \"supervised\" learning, in which a series of \"solved\" cases is presented to the computer for \"training\". Once the computer achieves a certain level of skill in recognizing the solved cases, some \"test\" cases are presented and the result is validated (or not).\n",
    "\n",
    "One of the most straightforward techniques for machine learning is inspired by the physiology of the nervous system. The idea is to create artificial \"neurons\" that collect input from the various places, add up those inputs with varying weights and produce an output that can be one of two values, say \"yes\"/\"no\" or \"approved\"/\"denied\" or whatever binary classification you like. Let's make this more concrete: Suppose we want to decide if a blossom belongs to a flower of a specific species. We'll use the famous [Fisher's Iris Data](https://en.wikipedia.org/wiki/Iris_flower_data_set). The \"inputs\" are the length and width of the petals and sepals from a sampling of blossoms of Iris flowers found in various cemeteries[1]. The inputs are labeled $x_i$, and the weights are $w_i$. The output from a particular blossom could be calculated as:\n",
    "\n",
    "$$y = \\sum_{i=1}^{n} w_i x_i \\,\\,\\, (1)$$\n",
    "\n",
    "The idea is that if $y$ is greater than some threshold value, then the output is \"yes\", otherwise it's \"no\".\n",
    "\n",
    "The question is: \"What should the weights be?\" and \"What should the threshold be?\". \n",
    "\n",
    "The answer is: Whatever they need to be to make the thing work!\n",
    "\n",
    "The game is to fiddle with the weights and the threshold until the output matches the known answer for some subset of the whole data (called the \"training\" set). Then the \"quality\" of the system can be evaluated using the remainder of the data set (called the \"testing\" set). There are two technical questions we need to address: Q1) What's the procedure to modify the weights to improve the predictions? and Q2) How do we keep track of the threshold value?\n",
    "\n",
    "There are many ways to answer \"Q1\". The simplest answer is: come up with a measure of \"error\" for the prediction of the system for a specific input in the training set. We use that error from a particular input to \"nudge\" the weights slightly, then we iterate over the entire training set slowly improving (hopefully) the accuracy of the predictions in each pass through the various inputs. When the system stops improving, we can test the system using the \"testing\" set.\n",
    "\n",
    "The issue with \"Q2\" is solved with a trick. Note that from Eq. 1 we get a value that is compared to some threshold. So the idea is:\n",
    "\n",
    "* if $y$ is greater than (or equal to) some number, the answer is \"yes\"\n",
    "    \n",
    "* if $y$ is less than this number, the answer is \"no\"\n",
    "\n",
    "However we could *subtract* the threshold value of $y$ from both sides of Eq. 1 and treat the threshold as just another weight by adding a \"fake\" input that's always just 1.0:\n",
    "\n",
    "$$y = w_0 + \\sum_{i=1}^{n} w_i x_i \\,\\,\\, (2)$$\n",
    "\n",
    "Finally, note that if we store the weights and inputs as numpy vectors it's easy to compute this sum as a \"dot\" product between the \"weight vector\" and the \"input vector\" for each item in the set.\n",
    "\n",
    "First let's pull in pylab and pandas as usual. Let's start with a completely \"fake\" data set with only two inputs just to see how this works. We can visualize all the data in a 2D scatter plot.\n",
    "\n",
    "    1. FISHER, R. A. (1936), THE USE OF MULTIPLE MEASUREMENTS IN TAXONOMIC PROBLEMS. Annals of Eugenics, 7: 179–188. doi:10.1111/j.1469-1809.1936.tb02137.x\n"
   ]
  },
  {
   "cell_type": "code",
   "execution_count": 1,
   "metadata": {},
   "outputs": [],
   "source": [
    "import pandas as pd\n",
    "import matplotlib.pyplot as plt\n",
    "import numpy as np"
   ]
  },
  {
   "cell_type": "markdown",
   "metadata": {},
   "source": [
    "# Fake Data\n",
    "\n",
    "Almost like fake news, fake data let's us make up things and try out ideas. It doesn't matter if it's really right or not, since it's all just fake! Suppose we're trying to predict if someone will want fries with their lunch. We ask \"how much do you like salt?\" and \"how hungry are you?\" The answers to these questions, on a 3 pt scale are collected, along with whether they ordered fries with their meeal:\n",
    "\n",
    "Person | Likes Salt? | Hunger Level? | Ordered Fries?\n",
    ":---:|:---:|:---:|:---:\n",
    "1 | 1 | 1 | No\n",
    "2 | 1 | 2 | No\n",
    "3 | 2 | 1 | No\n",
    "4 | 2 | 2 | Yes\n",
    "5 | 2 | 3 | Yes\n",
    "6 | 3 | 2 | Yes\n",
    "7 | 0.3 | 0.5 | No\n",
    "8 | 2.5 | 2.5 | Yes\n",
    "\n",
    "The input data is used for the `x` array, and the output data is converted to `+1` and `-1` \n",
    "for the output array.\n"
   ]
  },
  {
   "cell_type": "code",
   "execution_count": 2,
   "metadata": {},
   "outputs": [
    {
     "data": {
      "image/png": "[encoded data removed]",
      "text/plain": [
       "<Figure size 432x288 with 1 Axes>"
      ]
     },
     "metadata": {
      "needs_background": "light"
     },
     "output_type": "display_data"
    }
   ],
   "source": [
    "\n",
    "x = np.array([  # x is an Nx3 (x[0] is always 1, for the threshold, x[1], and x[2]\n",
    "    [1,1,1], # are the \"real\" inputs that correspond to actual data.\n",
    "    [1,1,2], # For example x[1] could be \n",
    "    [1,2,1],\n",
    "    [1,2,2],\n",
    "    [1,2,3],\n",
    "    [1,3,2],\n",
    "    [1,0.3,0.5],\n",
    "    [1,2.5,2.5],\n",
    "])\n",
    "\n",
    "y = np.array([-1,-1,-1,1,1,1,-1,1])  # did they order fries? +1 -> yes, and -1 -> no.\n",
    "\n",
    "plt.xlim(0,4)                 # plot x from 0 to 4\n",
    "plt.ylim(0,4)                 # plot y from 0 to 4\n",
    "\n",
    "ix_fries = (y==1)              # boolean, do you like fries?\n",
    "ix_no_fries = np.invert(ix_fries) # boolean, inverse of ix_fries?\n",
    "\n",
    "plt.title(\"Fake data, show inputs and outputs\")\n",
    "plt.xlabel(\"Do you like Salt?\")\n",
    "plt.ylabel(\"How hungry are you?\")\n",
    "plt.plot(x[ix_fries,1],x[ix_fries,2],'b.',label=\"fries\")\n",
    "plt.plot(x[ix_no_fries,1],x[ix_no_fries,2],'r.',label=\"no fries\")\n",
    "plt.legend()\n",
    "plt.grid()"
   ]
  },
  {
   "cell_type": "markdown",
   "metadata": {},
   "source": [
    "# Calculating Error and updating weights\n",
    "\n",
    "Let's look at a simple implementation of updating weights and calculating error.\n",
    "\n",
    "Suppose we have an array `w` that contains the weights and we wish to compute the sum from Eq 1 for the `j`th row fo the 2D array `x`. It's easy using the `dot` method of linear algebra:\n",
    "\n",
    "    y_out = x[j].dot(w)\n",
    "    \n",
    "This will give us a scaler value. If the scaler is greater than, or equal to 0 we want to register that as a \"yes\", and if it's below zero it's a \"no\". The easiest way to track error is to use a numerical representation of \"yes\" and \"no\". For this exercise let's use `+1` for \"yes\" and `-1` for \"no\" (just like the y array).\n",
    "\n",
    "There's a paradigm in python, similar to the `c` trick: `cond ? a:b` in python that's:\n",
    "\n",
    "    cond and a or b\n",
    "    \n",
    "Note that python only evaluates the second operand when evaluating an `and` operation if the first operand is `True`. Also, python always evaluates the second operand in an `or` operation if the first operand is `False`. So the statement \n",
    "\n",
    "    cond and a or b\n",
    "\n",
    "will return `a` if `cond` is true and `b` if `cond` is false. So, we can get what we want using:\n",
    "\n",
    "    y_out = (x[j].dot(w)>=0.0) and +1 or -1\n",
    "    \n",
    "This compares `x[j].dot(w)` to zero, and returns `+1` or `-1` if the result is above or below zero respectively.\n",
    "\n",
    "So, below find three functions defined, the workhorse `calc_error` which evaluates the error and (optionally) updates the weights as well as `test` and `train` which call `calc_error` to test and train the system, respectively.\n",
    "\n",
    "The only non-trivial part of `calc_error` is the updating of the weights which looks like this:\n",
    "\n",
    "    w += eta*err*x[j]\n",
    "    \n",
    "`x[j]` is the jth input. `err` is the calculated error (+2 if the output is low, -2 if the output is high, and 0 if the output matches the input). Note that if the output is low and a particular input is *positive*, this will *increase* the weight for that input thereby increasing the output for this input in the future. On the other hand if the input is *negative* this will decrease the weight of that input, also increasing the output for this input in the future. So the *sign* of the inputs is automatically taken into account with this update formula.\n"
   ]
  },
  {
   "cell_type": "code",
   "execution_count": 3,
   "metadata": {},
   "outputs": [],
   "source": [
    "def calc_error(y_arr, x_arr, w, train=False, eta=0.1):\n",
    "    \"\"\"\n",
    "    calc_error computes the error for each input (+1 if it's wrong, 0 if it's correct)\n",
    "    \n",
    "    y_arr is the 1D array of known outputs\n",
    "    x_arr is the 2D array of inputs (N rows (number of samples), m+1 columns (number of inputs/sample))\n",
    "    w is the 1D array of weights (threshold + m weights)\n",
    "    train is True if training (updating of weights) is to occur as a side effect.\n",
    "\n",
    "    Returns: The total number of errors found in iterating over all the samples\n",
    "    \"\"\"\n",
    "    err_sum=0.0\n",
    "    for j in range(len(y_arr)):\n",
    "        y_out = (x_arr[j].dot(w)>=0.0) and 1 or -1  # make a prediction, +1 (versi) or -1 (vir)\n",
    "        err = y_arr[j]-y_out                        # compare to known species\n",
    "        err_sum += abs(err) and 1 or 0              # accumulate the total error\n",
    "        if train:\n",
    "            w += eta*err*x_arr[j]                   # adjust the weights during training only\n",
    "    return err_sum\n",
    "    \n",
    "def train(y, x, w, eta=0.1):\n",
    "    return calc_error(y, x, w, train=True, eta=eta)\n",
    "\n",
    "def test(y, x, w, eta=0.1):\n",
    "    return calc_error(y, x, w, eta=eta)"
   ]
  },
  {
   "cell_type": "code",
   "execution_count": 4,
   "metadata": {},
   "outputs": [
    {
     "data": {
      "image/png": "[encoded data removed]",
      "text/plain": [
       "<Figure size 432x288 with 1 Axes>"
      ]
     },
     "metadata": {
      "needs_background": "light"
     },
     "output_type": "display_data"
    }
   ],
   "source": [
    "eta=0.1 # how much should we \"nudge\" the weights each time?\n",
    "w = np.random.rand(len(x[0]))*.05  # random array of \"small\" weights\n",
    "\n",
    "err_test=[]\n",
    "err_train=[]\n",
    "train_iters=50\n",
    "for i in range(train_iters):\n",
    "    err_train.append(train(y[:6], x[:6], w, eta=eta))\n",
    "    err_test.append(test(y[6:], x[6:], w, eta=eta))\n",
    "\n",
    "plt.title(\"Training and testing error.\")\n",
    "plt.plot(range(train_iters),err_train,'b', label=\"Train\")\n",
    "plt.plot(range(train_iters),err_test,'r', label=\"Test\")\n",
    "plt.xlabel(\"Iteration\")\n",
    "plt.ylabel(\"Error\")\n",
    "plt.legend()\n",
    "plt.grid()\n"
   ]
  },
  {
   "cell_type": "code",
   "execution_count": 5,
   "metadata": {},
   "outputs": [
    {
     "data": {
      "image/png": "[encoded data removed]",
      "text/plain": [
       "<Figure size 432x288 with 1 Axes>"
      ]
     },
     "metadata": {
      "needs_background": "light"
     },
     "output_type": "display_data"
    }
   ],
   "source": [
    "xx,yy = np.meshgrid(np.linspace(min(x[:,1])-1,max(x[:,1]+1),100),\n",
    "                    np.linspace(min(x[:,2])-1,max(x[:,2]+1),100))\n",
    "\n",
    "z=w[0]+xx*w[1] + yy*w[2]\n",
    "\n",
    "plt.contourf(xx,yy,z,levels=[-10,0,+10])\n",
    "\n",
    "plt.title(\"Fake data! Perceptron output with data\")\n",
    "plt.xlabel(\"Do you like Salt?\")\n",
    "plt.ylabel(\"How hungry are you?\")\n",
    "\n",
    "plt.plot(x[ix_fries,1],x[ix_fries,2],'b.',label=\"fries\")\n",
    "plt.plot(x[ix_no_fries,1],x[ix_no_fries,2],'r.',label=\"no fries\")\n",
    "plt.legend()\n",
    "plt.grid()"
   ]
  },
  {
   "cell_type": "markdown",
   "metadata": {},
   "source": [
    "So you can see the system \"learned\" to distinguish between \"fries\" and \"no fries\" by finding a linear separation guided by the \"training\" data. \n",
    "\n",
    "Next let's pull in some data from the \"Iris\" dataset described above.\n"
   ]
  },
  {
   "cell_type": "code",
   "execution_count": 6,
   "metadata": {},
   "outputs": [],
   "source": [
    "df = pd.read_csv('Iris.csv')  # load the Iris dataset"
   ]
  },
  {
   "cell_type": "code",
   "execution_count": 7,
   "metadata": {},
   "outputs": [
    {
     "data": {
      "text/html": [
       "<div>\n",
       "<style scoped>\n",
       "    .dataframe tbody tr th:only-of-type {\n",
       "        vertical-align: middle;\n",
       "    }\n",
       "\n",
       "    .dataframe tbody tr th {\n",
       "        vertical-align: top;\n",
       "    }\n",
       "\n",
       "    .dataframe thead th {\n",
       "        text-align: right;\n",
       "    }\n",
       "</style>\n",
       "<table border=\"1\" class=\"dataframe\">\n",
       "  <thead>\n",
       "    <tr style=\"text-align: right;\">\n",
       "      <th></th>\n",
       "      <th>Id</th>\n",
       "      <th>SepalLengthCm</th>\n",
       "      <th>SepalWidthCm</th>\n",
       "      <th>PetalLengthCm</th>\n",
       "      <th>PetalWidthCm</th>\n",
       "      <th>Species</th>\n",
       "    </tr>\n",
       "  </thead>\n",
       "  <tbody>\n",
       "    <tr>\n",
       "      <th>0</th>\n",
       "      <td>1</td>\n",
       "      <td>5.1</td>\n",
       "      <td>3.5</td>\n",
       "      <td>1.4</td>\n",
       "      <td>0.2</td>\n",
       "      <td>Iris-setosa</td>\n",
       "    </tr>\n",
       "    <tr>\n",
       "      <th>1</th>\n",
       "      <td>2</td>\n",
       "      <td>4.9</td>\n",
       "      <td>3.0</td>\n",
       "      <td>1.4</td>\n",
       "      <td>0.2</td>\n",
       "      <td>Iris-setosa</td>\n",
       "    </tr>\n",
       "    <tr>\n",
       "      <th>2</th>\n",
       "      <td>3</td>\n",
       "      <td>4.7</td>\n",
       "      <td>3.2</td>\n",
       "      <td>1.3</td>\n",
       "      <td>0.2</td>\n",
       "      <td>Iris-setosa</td>\n",
       "    </tr>\n",
       "    <tr>\n",
       "      <th>3</th>\n",
       "      <td>4</td>\n",
       "      <td>4.6</td>\n",
       "      <td>3.1</td>\n",
       "      <td>1.5</td>\n",
       "      <td>0.2</td>\n",
       "      <td>Iris-setosa</td>\n",
       "    </tr>\n",
       "    <tr>\n",
       "      <th>4</th>\n",
       "      <td>5</td>\n",
       "      <td>5.0</td>\n",
       "      <td>3.6</td>\n",
       "      <td>1.4</td>\n",
       "      <td>0.2</td>\n",
       "      <td>Iris-setosa</td>\n",
       "    </tr>\n",
       "  </tbody>\n",
       "</table>\n",
       "</div>"
      ],
      "text/plain": [
       "   Id  SepalLengthCm  SepalWidthCm  PetalLengthCm  PetalWidthCm      Species\n",
       "0   1            5.1           3.5            1.4           0.2  Iris-setosa\n",
       "1   2            4.9           3.0            1.4           0.2  Iris-setosa\n",
       "2   3            4.7           3.2            1.3           0.2  Iris-setosa\n",
       "3   4            4.6           3.1            1.5           0.2  Iris-setosa\n",
       "4   5            5.0           3.6            1.4           0.2  Iris-setosa"
      ]
     },
     "execution_count": 7,
     "metadata": {},
     "output_type": "execute_result"
    }
   ],
   "source": [
    "df.head()  # look at the columns"
   ]
  },
  {
   "cell_type": "code",
   "execution_count": 8,
   "metadata": {},
   "outputs": [
    {
     "data": {
      "text/plain": [
       "array(['Iris-setosa', 'Iris-versicolor', 'Iris-virginica'], dtype=object)"
      ]
     },
     "execution_count": 8,
     "metadata": {},
     "output_type": "execute_result"
    }
   ],
   "source": [
    "df.Species.unique()  # what species are available in the dataset?"
   ]
  },
  {
   "cell_type": "markdown",
   "metadata": {},
   "source": [
    "Let's pull out only two species and take 80% for our training set and leave the rest for testing."
   ]
  },
  {
   "cell_type": "code",
   "execution_count": 14,
   "metadata": {},
   "outputs": [
    {
     "data": {
      "image/png": "[encoded data removed]",
      "text/plain": [
       "<Figure size 432x288 with 1 Axes>"
      ]
     },
     "metadata": {
      "needs_background": "light"
     },
     "output_type": "display_data"
    }
   ],
   "source": [
    "sub_frame = df[(df['Species']=='Iris-versicolor')|(df['Species']=='Iris-virginica')] # only two species\n",
    "train_ix = np.random.rand(len(sub_frame))<0.8   # an array of random booleans, 80% true\n",
    "train_df = sub_frame[train_ix]        # choose a random \"training\" set using the random index\n",
    "test_df = sub_frame[np.invert(train_ix)] # use the rest for \"testing\".\n",
    "\n",
    "\n",
    "#\n",
    "# x is a 5xN (~80 samples with 4 traits + offset in column 1)\n",
    "#\n",
    "x=np.array([\n",
    "    np.ones(len(train_df)),\n",
    "    train_df.PetalLengthCm.values,\n",
    "    train_df.PetalWidthCm.values,\n",
    "    train_df.SepalLengthCm.values,\n",
    "    train_df.SepalWidthCm.values,]).T  # transpose to get in the right shape\n",
    "\n",
    "#\n",
    "# y is an Nx1, +1 if species == versi and -1 otherwise\n",
    "#\n",
    "\n",
    "y=np.where(train_df.Species=='Iris-versicolor',1,-1)\n",
    "\n",
    "#\n",
    "# build testing set arrays, just like training set, but using the remaining indexes\n",
    "#\n",
    "\n",
    "xt=np.array([\n",
    "    np.ones(len(test_df)),\n",
    "    test_df.PetalLengthCm.values,\n",
    "    test_df.PetalWidthCm.values,\n",
    "    test_df.SepalLengthCm.values,\n",
    "    test_df.SepalWidthCm.values,]).T\n",
    "\n",
    "yt=np.where(test_df.Species=='Iris-versicolor',1,-1)\n",
    "\n",
    "#\n",
    "# Now plot all the data to visualize what we're seeing\n",
    "#\n",
    "\n",
    "versi_df=sub_frame[sub_frame.Species=='Iris-versicolor'] # get all the versi\n",
    "virg_df=sub_frame[sub_frame.Species=='Iris-virginica']   # get all the virg\n",
    "\n",
    "plt.plot(versi_df.PetalLengthCm.values, versi_df.PetalWidthCm.values, 'r.', label=\"Versicolor\")\n",
    "plt.plot(virg_df.PetalLengthCm.values, virg_df.PetalWidthCm.values, 'b.', label=\"Virginica\")\n",
    "\n",
    "plt.xlabel(\"Petal Length\")\n",
    "plt.ylabel(\"Petal Width\")\n",
    "plt.title(\"Petal Length and Width for two Species of Iris: All Data\")\n",
    "plt.legend(loc=2)\n",
    "plt.grid()"
   ]
  },
  {
   "cell_type": "code",
   "execution_count": 19,
   "metadata": {},
   "outputs": [
    {
     "name": "stdout",
     "output_type": "stream",
     "text": [
      "Test performance: 0.920000 with 25 samples\n"
     ]
    },
    {
     "data": {
      "image/png": "[encoded data removed]",
      "text/plain": [
       "<Figure size 432x288 with 1 Axes>"
      ]
     },
     "metadata": {
      "needs_background": "light"
     },
     "output_type": "display_data"
    }
   ],
   "source": [
    "w = np.random.rand(len(x[0]))*.05  # random array of \"small\" weights\n",
    "eta=.01\n",
    "\n",
    "err_test=[]\n",
    "err_train=[]\n",
    "train_iters=2000\n",
    "for i in range(train_iters):\n",
    "    err_train.append(train(y, x, w, eta=eta))\n",
    "    err_test.append(test(yt, xt, w, eta=eta))\n",
    "\n",
    "plt.title(\"Training and Testing Errors\")\n",
    "plt.plot(range(train_iters),err_train,'b.',label=\"Train\")\n",
    "plt.plot(range(train_iters),err_test,'rx',label=\"Test\")\n",
    "plt.ylabel(\"Total Error\")\n",
    "plt.xlabel(\"Iteration\")\n",
    "plt.legend()\n",
    "plt.grid()\n",
    "\n",
    "print(\"Test performance: %f with %d samples\" % ((1.0 - err_test[-1]/len(yt)),len(yt)))"
   ]
  },
  {
   "cell_type": "code",
   "execution_count": 16,
   "metadata": {},
   "outputs": [
    {
     "data": {
      "image/png": "[encoded data removed]",
      "text/plain": [
       "<Figure size 432x288 with 1 Axes>"
      ]
     },
     "metadata": {
      "needs_background": "light"
     },
     "output_type": "display_data"
    }
   ],
   "source": [
    "vals=[]\n",
    "for i in range(len(xt)):\n",
    "    vals.append((xt[i,1],xt[i,2],xt[i].dot(w),yt[i]))\n",
    "z=np.array(vals,).T\n",
    "gr=z[2]>=0.0\n",
    "lt=np.invert(gr)\n",
    "plt.plot(z[0,gr],z[1,gr],'bx',label=\"Predict Yes\") # show predictions of model with red and blue 'x's\n",
    "plt.plot(z[0,lt],z[1,lt],'rx',label=\"Predict No\")\n",
    "gr=z[3]>=0.0\n",
    "lt=np.invert(gr)\n",
    "\n",
    "plt.xlim(min(xt[:,1])-.5,max(xt[:,1])+.5)\n",
    "plt.ylim(min(xt[:,2])-.5,max(xt[:,2])+.5)\n",
    "\n",
    "plt.plot(z[0,gr],z[1,gr],'b.',label=\"Data Yes\") # show actual data with red and blue dots\n",
    "plt.plot(z[0,lt],z[1,lt],'r.',label=\"Data No\")\n",
    "plt.legend(loc=2)\n",
    "plt.xlabel(\"Petal Length\")\n",
    "plt.ylabel(\"Petal Width\")\n",
    "plt.title(\"Species is Versi?, Prediction vs Data\")\n",
    "plt.grid()"
   ]
  },
  {
   "cell_type": "markdown",
   "metadata": {},
   "source": [
    "# What am I supposed to do?\n",
    "\n",
    "For this project you can use the \"Titanic\" data to build a machine learning system that predicts whether or not a particular passenger on the Titanic will survive. You can use any of the parameters in the data you like. You'll need to convert non-numeric data into something numerical or categorical (multiple boolean inputs, see \"one hot encoding\").\n",
    "\n",
    "OR you can grab any old data you like, even conduct a survey, and use that to build a system to predict anything you find interesting. So long as you incorporate the ideas introduced here, it's OK!\n",
    "\n"
   ]
  },
  {
   "cell_type": "markdown",
   "metadata": {},
   "source": [
    "# What am I supposed to do (Option B):\n",
    "\n",
    "This is just like option \"A\", but using TensorFlow rather than the simplified \"perceptron\" model.\n",
    "\n",
    "See the TensorFlow [example notebook](P12b-MLTensorFlow.ipynb) in this repository.\n",
    "\n",
    "\n"
   ]
  },
  {
   "cell_type": "code",
   "execution_count": null,
   "metadata": {},
   "outputs": [],
   "source": []
  }
 ],
 "metadata": {
  "kernelspec": {
   "display_name": "Python 3",
   "language": "python",
   "name": "python3"
  },
  "language_info": {
   "codemirror_mode": {
    "name": "ipython",
    "version": 3
   },
   "file_extension": ".py",
   "mimetype": "text/x-python",
   "name": "python",
   "nbconvert_exporter": "python",
   "pygments_lexer": "ipython3",
   "version": "3.8.5"
  }
 },
 "nbformat": 4,
 "nbformat_minor": 2
}
