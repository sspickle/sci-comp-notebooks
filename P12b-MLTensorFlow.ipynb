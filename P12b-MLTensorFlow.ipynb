{
 "cells": [
  {
   "cell_type": "markdown",
   "metadata": {},
   "source": [
    "# Machine Learning with Tensorflow (Keras)\n",
    "\n",
    "This notebook shows the same systems as the [\"P12\" notebook](P12-MachineLearning.ipynb), but using Tensorflow/Keras\n"
   ]
  },
  {
   "cell_type": "code",
   "execution_count": 1,
   "metadata": {
    "colab": {},
    "colab_type": "code",
    "id": "n6wuE9L6IdUv"
   },
   "outputs": [],
   "source": [
    "%matplotlib inline\n",
    "import matplotlib.pyplot as plt\n",
    "import numpy as np\n",
    "import tensorflow as tf\n",
    "tf.logging.set_verbosity(tf.logging.ERROR)"
   ]
  },
  {
   "cell_type": "code",
   "execution_count": 2,
   "metadata": {
    "colab": {},
    "colab_type": "code",
    "id": "gXK1BbXwI7Xz"
   },
   "outputs": [],
   "source": [
    "x = np.array([  # x is an Nx3 (x[0] is always 1, for the threshold, x[1], and x[2]\n",
    "    [1,1,1],    # are the \"real\" inputs that correspond to actual data.\n",
    "    [1,1,2],    # For example x[1] could be \n",
    "    [1,2,1],\n",
    "    [1,2,2],\n",
    "    [1,2,3],\n",
    "    [1,3,2],\n",
    "    [1,0.3,0.5],\n",
    "    [1,2.5,2.5],\n",
    "])\n",
    "\n",
    "y = np.array([-1,-1,-1,1,1,1,-1,1])  # did they order fries? +1 -> yes, and -1 -> no."
   ]
  },
  {
   "cell_type": "code",
   "execution_count": 3,
   "metadata": {
    "colab": {},
    "colab_type": "code",
    "id": "JRH59C63I-_z"
   },
   "outputs": [],
   "source": [
    "#\n",
    "# build a perceptron-like single layer\n",
    "#\n",
    "\n",
    "l0 = tf.keras.layers.Dense(units=1, input_shape=[3])  "
   ]
  },
  {
   "cell_type": "code",
   "execution_count": 4,
   "metadata": {
    "colab": {},
    "colab_type": "code",
    "id": "HUw9nWzdchIF"
   },
   "outputs": [],
   "source": [
    "#\n",
    "# create a single sequence of this single layer\n",
    "#\n",
    "\n",
    "model = tf.keras.Sequential([l0])"
   ]
  },
  {
   "cell_type": "code",
   "execution_count": 5,
   "metadata": {
    "colab": {},
    "colab_type": "code",
    "id": "jJ8q0Xv8cmnd"
   },
   "outputs": [],
   "source": [
    "#\n",
    "# use a \"mean square\" loss/error function and a simple training optimizer\n",
    "#\n",
    "\n",
    "model.compile(loss='mean_squared_error',\n",
    "              optimizer=tf.keras.optimizers.Adam(0.1))"
   ]
  },
  {
   "cell_type": "code",
   "execution_count": 6,
   "metadata": {
    "colab": {
     "base_uri": "https://localhost:8080/",
     "height": 34
    },
    "colab_type": "code",
    "id": "Pi5Cx9-tczb7",
    "outputId": "92f3dd61-0fe4-4621-ac4a-d3ad117aff87"
   },
   "outputs": [
    {
     "name": "stdout",
     "output_type": "stream",
     "text": [
      "Finished training the model\n"
     ]
    }
   ],
   "source": [
    "#\n",
    "# train for 100 iterations\n",
    "#\n",
    "\n",
    "history = model.fit(x, y, epochs=100, verbose=False)\n",
    "print(\"Finished training the model\")"
   ]
  },
  {
   "cell_type": "code",
   "execution_count": 7,
   "metadata": {
    "colab": {
     "base_uri": "https://localhost:8080/",
     "height": 378
    },
    "colab_type": "code",
    "id": "Ou8i9-9KdEw3",
    "outputId": "7cb62315-b4fe-464c-de94-56530b6849ed"
   },
   "outputs": [
    {
     "data": {
      "text/plain": [
       "[<matplotlib.lines.Line2D at 0x1363445f8>]"
      ]
     },
     "execution_count": 7,
     "metadata": {},
     "output_type": "execute_result"
    },
    {
     "data": {
      "image/png": "[encoded data removed]",
      "text/plain": [
       "<Figure size 432x288 with 1 Axes>"
      ]
     },
     "metadata": {
      "needs_background": "light"
     },
     "output_type": "display_data"
    }
   ],
   "source": [
    "#\n",
    "# plot the training history.\n",
    "#\n",
    "\n",
    "plt.xlabel('Epoch Number')\n",
    "plt.ylabel(\"Loss Magnitude\")\n",
    "plt.plot(history.history['loss'])"
   ]
  },
  {
   "cell_type": "code",
   "execution_count": 8,
   "metadata": {
    "colab": {
     "base_uri": "https://localhost:8080/",
     "height": 68
    },
    "colab_type": "code",
    "id": "_6hC6CcYdUPM",
    "outputId": "7cd75e8f-67a9-46e8-fd6b-634c16ede8a5"
   },
   "outputs": [
    {
     "name": "stdout",
     "output_type": "stream",
     "text": [
      "These are the layer variables: [array([[-1.0227706 ],\n",
      "       [ 0.5743028 ],\n",
      "       [ 0.61999834]], dtype=float32), array([-1.0530657], dtype=float32)]\n"
     ]
    }
   ],
   "source": [
    "print(\"These are the layer variables: {}\".format(l0.get_weights()))"
   ]
  },
  {
   "cell_type": "code",
   "execution_count": 9,
   "metadata": {
    "colab": {
     "base_uri": "https://localhost:8080/",
     "height": 34
    },
    "colab_type": "code",
    "id": "yNy-WcIKdw1P",
    "outputId": "7134bb6b-4a26-426f-9b91-ec3600d875b1"
   },
   "outputs": [
    {
     "data": {
      "text/plain": [
       "array([[-0.8815352]], dtype=float32)"
      ]
     },
     "execution_count": 9,
     "metadata": {},
     "output_type": "execute_result"
    }
   ],
   "source": [
    "model.predict(np.array([[1,1,1]]))"
   ]
  },
  {
   "cell_type": "code",
   "execution_count": 10,
   "metadata": {
    "colab": {
     "base_uri": "https://localhost:8080/",
     "height": 255
    },
    "colab_type": "code",
    "id": "c-ST9FzReMez",
    "outputId": "36707d08-b2b4-4fce-b14d-0bef63946cdd"
   },
   "outputs": [
    {
     "name": "stdout",
     "output_type": "stream",
     "text": [
      "Finished training the model\n",
      "These are the l0 variables: [array([[-1.0469887 ,  0.76435727,  0.23746374,  0.26524276],\n",
      "       [ 0.22685508, -0.52119756, -0.13128737, -0.50975186],\n",
      "       [ 0.78510493, -0.390184  , -0.20229916,  0.76045686]],\n",
      "      dtype=float32), array([-0.24095851,  0.21815498, -0.0909799 , -0.5572267 ], dtype=float32)]\n",
      "These are the l1 variables: [array([[-0.85034305,  0.44672975,  0.60617346, -0.35163757],\n",
      "       [ 0.27194247, -0.20217228,  0.7720422 ,  1.0519216 ],\n",
      "       [-0.64001065, -0.3961401 ,  0.0343342 ,  0.6494044 ],\n",
      "       [-0.18456244, -0.37008548,  0.3431412 , -0.01699765]],\n",
      "      dtype=float32), array([ 0.38294852, -0.279862  ,  0.22918443,  0.33778292], dtype=float32)]\n",
      "These are the l2 variables: [array([[-0.3475307 ],\n",
      "       [ 0.1260038 ],\n",
      "       [-0.22493674],\n",
      "       [-0.5088532 ]], dtype=float32), array([-0.36077186], dtype=float32)]\n"
     ]
    }
   ],
   "source": [
    "l0 = tf.keras.layers.Dense(units=4, input_shape=[3])  \n",
    "l1 = tf.keras.layers.Dense(units=4)  \n",
    "l2 = tf.keras.layers.Dense(units=1)  \n",
    "model = tf.keras.Sequential([l0, l1, l2])\n",
    "model.compile(loss='mean_squared_error', optimizer=tf.keras.optimizers.Adam(0.1))\n",
    "history = model.fit(x, y, epochs=100, verbose=False)\n",
    "print(\"Finished training the model\")\n",
    "print(\"These are the l0 variables: {}\".format(l0.get_weights()))\n",
    "print(\"These are the l1 variables: {}\".format(l1.get_weights()))\n",
    "print(\"These are the l2 variables: {}\".format(l2.get_weights()))"
   ]
  },
  {
   "cell_type": "code",
   "execution_count": 11,
   "metadata": {
    "colab": {
     "base_uri": "https://localhost:8080/",
     "height": 378
    },
    "colab_type": "code",
    "id": "UAFQZlv5fWU0",
    "outputId": "20ce73c1-92ba-4e57-8065-925b0fdf12b1"
   },
   "outputs": [
    {
     "data": {
      "text/plain": [
       "[<matplotlib.lines.Line2D at 0x136a71588>]"
      ]
     },
     "execution_count": 11,
     "metadata": {},
     "output_type": "execute_result"
    },
    {
     "data": {
      "image/png": "[encoded data removed]",
      "text/plain": [
       "<Figure size 432x288 with 1 Axes>"
      ]
     },
     "metadata": {
      "needs_background": "light"
     },
     "output_type": "display_data"
    }
   ],
   "source": [
    "plt.xlabel('Epoch Number')\n",
    "plt.ylabel(\"Loss Magnitude\")\n",
    "plt.plot(history.history['loss'])"
   ]
  },
  {
   "cell_type": "code",
   "execution_count": 12,
   "metadata": {},
   "outputs": [],
   "source": [
    "N=100\n",
    "xx,yy = np.meshgrid(np.linspace(min(x[:,1])-1,max(x[:,1]+1),N),\n",
    "                    np.linspace(min(x[:,2])-1,max(x[:,2]+1),N))\n",
    "\n",
    "xs = []\n",
    "for i in range(N):\n",
    "    for j in range(N):\n",
    "        xs.append([1,xx[i,j],yy[i,j]])\n",
    "\n",
    "zs = model.predict(np.array(xs))\n",
    "zz = zs.reshape(N,N)"
   ]
  },
  {
   "cell_type": "code",
   "execution_count": 13,
   "metadata": {},
   "outputs": [
    {
     "data": {
      "image/png": "[encoded data removed]",
      "text/plain": [
       "<Figure size 432x288 with 1 Axes>"
      ]
     },
     "metadata": {
      "needs_background": "light"
     },
     "output_type": "display_data"
    }
   ],
   "source": [
    "plt.contourf(xx,yy,zz,levels=[-10,0,+10])\n",
    "\n",
    "ix_fries = (y==1)              # boolean, do you like fries?\n",
    "ix_no_fries = np.invert(ix_fries) # boolean, inverse of ix_fries?\n",
    "\n",
    "plt.title(\"Fake data! Perceptron output with data\")\n",
    "plt.xlabel(\"Do you like Salt?\")\n",
    "plt.ylabel(\"How hungry are you?\")\n",
    "\n",
    "plt.plot(x[ix_fries,1],x[ix_fries,2],'b.',label=\"fries\")\n",
    "plt.plot(x[ix_no_fries,1],x[ix_no_fries,2],'r.',label=\"no fries\")\n",
    "plt.legend()\n",
    "plt.grid()"
   ]
  },
  {
   "cell_type": "code",
   "execution_count": 14,
   "metadata": {},
   "outputs": [
    {
     "data": {
      "text/html": [
       "<div>\n",
       "<style scoped>\n",
       "    .dataframe tbody tr th:only-of-type {\n",
       "        vertical-align: middle;\n",
       "    }\n",
       "\n",
       "    .dataframe tbody tr th {\n",
       "        vertical-align: top;\n",
       "    }\n",
       "\n",
       "    .dataframe thead th {\n",
       "        text-align: right;\n",
       "    }\n",
       "</style>\n",
       "<table border=\"1\" class=\"dataframe\">\n",
       "  <thead>\n",
       "    <tr style=\"text-align: right;\">\n",
       "      <th></th>\n",
       "      <th>Id</th>\n",
       "      <th>SepalLengthCm</th>\n",
       "      <th>SepalWidthCm</th>\n",
       "      <th>PetalLengthCm</th>\n",
       "      <th>PetalWidthCm</th>\n",
       "      <th>Species</th>\n",
       "    </tr>\n",
       "  </thead>\n",
       "  <tbody>\n",
       "    <tr>\n",
       "      <th>0</th>\n",
       "      <td>1</td>\n",
       "      <td>5.1</td>\n",
       "      <td>3.5</td>\n",
       "      <td>1.4</td>\n",
       "      <td>0.2</td>\n",
       "      <td>Iris-setosa</td>\n",
       "    </tr>\n",
       "    <tr>\n",
       "      <th>1</th>\n",
       "      <td>2</td>\n",
       "      <td>4.9</td>\n",
       "      <td>3.0</td>\n",
       "      <td>1.4</td>\n",
       "      <td>0.2</td>\n",
       "      <td>Iris-setosa</td>\n",
       "    </tr>\n",
       "    <tr>\n",
       "      <th>2</th>\n",
       "      <td>3</td>\n",
       "      <td>4.7</td>\n",
       "      <td>3.2</td>\n",
       "      <td>1.3</td>\n",
       "      <td>0.2</td>\n",
       "      <td>Iris-setosa</td>\n",
       "    </tr>\n",
       "    <tr>\n",
       "      <th>3</th>\n",
       "      <td>4</td>\n",
       "      <td>4.6</td>\n",
       "      <td>3.1</td>\n",
       "      <td>1.5</td>\n",
       "      <td>0.2</td>\n",
       "      <td>Iris-setosa</td>\n",
       "    </tr>\n",
       "    <tr>\n",
       "      <th>4</th>\n",
       "      <td>5</td>\n",
       "      <td>5.0</td>\n",
       "      <td>3.6</td>\n",
       "      <td>1.4</td>\n",
       "      <td>0.2</td>\n",
       "      <td>Iris-setosa</td>\n",
       "    </tr>\n",
       "  </tbody>\n",
       "</table>\n",
       "</div>"
      ],
      "text/plain": [
       "   Id  SepalLengthCm  SepalWidthCm  PetalLengthCm  PetalWidthCm      Species\n",
       "0   1            5.1           3.5            1.4           0.2  Iris-setosa\n",
       "1   2            4.9           3.0            1.4           0.2  Iris-setosa\n",
       "2   3            4.7           3.2            1.3           0.2  Iris-setosa\n",
       "3   4            4.6           3.1            1.5           0.2  Iris-setosa\n",
       "4   5            5.0           3.6            1.4           0.2  Iris-setosa"
      ]
     },
     "execution_count": 14,
     "metadata": {},
     "output_type": "execute_result"
    }
   ],
   "source": [
    "import pandas as pd\n",
    "df = pd.read_csv('Iris.csv')  # load the Iris dataset\n",
    "df.head()"
   ]
  },
  {
   "cell_type": "code",
   "execution_count": 15,
   "metadata": {},
   "outputs": [
    {
     "data": {
      "image/png": "[encoded data removed]",
      "text/plain": [
       "<Figure size 432x288 with 1 Axes>"
      ]
     },
     "metadata": {
      "needs_background": "light"
     },
     "output_type": "display_data"
    }
   ],
   "source": [
    "sub_frame = df[(df['Species']=='Iris-versicolor')|(df['Species']=='Iris-virginica')] # only two species\n",
    "train_ix = np.random.rand(len(sub_frame))<0.8   # an array of random booleans, 80% true\n",
    "train_df = sub_frame[train_ix]        # choose a random \"training\" set using the random index\n",
    "test_df = sub_frame[np.invert(train_ix)] # use the rest for \"testing\".\n",
    "\n",
    "#\n",
    "# x is a 5xN (~80 samples with 4 traits + offset in column 1)\n",
    "#\n",
    "x=np.array([\n",
    "    np.ones(len(train_df)),\n",
    "    train_df.PetalLengthCm.values,\n",
    "    train_df.PetalWidthCm.values,\n",
    "    train_df.SepalLengthCm.values,\n",
    "    train_df.SepalWidthCm.values,]).T  # transpose to get in the right shape\n",
    "\n",
    "#\n",
    "# y is an Nx1, +1 if species == versi and -1 otherwise\n",
    "#\n",
    "\n",
    "y=np.where(train_df.Species=='Iris-versicolor',1,-1)\n",
    "\n",
    "#\n",
    "# build testing set arrays, just like training set, but using the remaining indexes\n",
    "#\n",
    "\n",
    "xt=np.array([\n",
    "    np.ones(len(test_df)),\n",
    "    test_df.PetalLengthCm.values,\n",
    "    test_df.PetalWidthCm.values,\n",
    "    test_df.SepalLengthCm.values,\n",
    "    test_df.SepalWidthCm.values,]).T\n",
    "\n",
    "yt=np.where(test_df.Species=='Iris-versicolor',1,-1)\n",
    "\n",
    "#\n",
    "# Now plot all the data to visualize what we're seeing\n",
    "#\n",
    "\n",
    "versi_df=sub_frame[sub_frame.Species=='Iris-versicolor'] # get all the versi\n",
    "virg_df=sub_frame[sub_frame.Species=='Iris-virginica']   # get all the virg\n",
    "\n",
    "plt.plot(versi_df.PetalLengthCm.values, versi_df.PetalWidthCm.values, 'r.', label=\"Versicolor\")\n",
    "plt.plot(virg_df.PetalLengthCm.values, virg_df.PetalWidthCm.values, 'b.', label=\"Virginica\")\n",
    "\n",
    "plt.xlabel(\"Petal Length\")\n",
    "plt.ylabel(\"Petal Width\")\n",
    "plt.title(\"Petal Length and Width for two Species of Iris: All Data\")\n",
    "plt.legend(loc=2)\n",
    "plt.grid()"
   ]
  },
  {
   "cell_type": "code",
   "execution_count": 16,
   "metadata": {},
   "outputs": [
    {
     "name": "stdout",
     "output_type": "stream",
     "text": [
      "Finished training the model\n",
      "These are the l0 variables: [array([[ 1.0151736 ,  0.1709488 , -0.29896027, -0.36411107],\n",
      "       [-0.75684273, -0.4209568 ,  0.3192529 ,  0.4141346 ],\n",
      "       [-1.1730714 , -0.53457236,  0.21706475,  0.43762246],\n",
      "       [ 0.3763089 ,  0.32660452, -0.70903206,  0.27661657],\n",
      "       [-0.13550304,  0.97144634,  0.21529275, -0.49860883]],\n",
      "      dtype=float32), array([ 0.3715445 ,  0.4901354 , -0.13046445,  0.07748184], dtype=float32)]\n",
      "These are the l1 variables: [array([[ 0.10732354,  1.0579735 , -0.04082891, -0.6728099 ],\n",
      "       [-0.05003666,  0.84978086, -0.12917598, -0.37492603],\n",
      "       [-0.508055  , -0.50679696, -0.10548654, -0.0131705 ],\n",
      "       [-0.13466817, -0.4842254 ,  0.26112223,  0.21193555]],\n",
      "      dtype=float32), array([-0.26972875,  0.21577187, -0.22320873, -0.46724316], dtype=float32)]\n",
      "These are the l2 variables: [array([[ 0.02382502],\n",
      "       [ 0.45426527],\n",
      "       [-0.08930013],\n",
      "       [-0.18751872]], dtype=float32), array([0.3205025], dtype=float32)]\n"
     ]
    }
   ],
   "source": [
    "l0 = tf.keras.layers.Dense(units=4, input_shape=[5])  \n",
    "l1 = tf.keras.layers.Dense(units=4)  \n",
    "l2 = tf.keras.layers.Dense(units=1)\n",
    "model = tf.keras.Sequential([l0, l1, l2])\n",
    "model.compile(loss='mean_squared_error', optimizer=tf.keras.optimizers.Adam(0.1))\n",
    "history = model.fit(x, y, epochs=125, verbose=False)\n",
    "print(\"Finished training the model\")\n",
    "print(\"These are the l0 variables: {}\".format(l0.get_weights()))\n",
    "print(\"These are the l1 variables: {}\".format(l1.get_weights()))\n",
    "print(\"These are the l2 variables: {}\".format(l2.get_weights()))"
   ]
  },
  {
   "cell_type": "code",
   "execution_count": 17,
   "metadata": {},
   "outputs": [
    {
     "data": {
      "image/png": "[encoded data removed]",
      "text/plain": [
       "<Figure size 432x288 with 1 Axes>"
      ]
     },
     "metadata": {
      "needs_background": "light"
     },
     "output_type": "display_data"
    }
   ],
   "source": [
    "plt.title(\"Training Error History\")\n",
    "plt.xlabel('Epoch Number')\n",
    "plt.ylabel(\"Loss Magnitude\")\n",
    "plt.plot(history.history['loss'])\n",
    "plt.grid()"
   ]
  },
  {
   "cell_type": "code",
   "execution_count": 18,
   "metadata": {},
   "outputs": [
    {
     "name": "stdout",
     "output_type": "stream",
     "text": [
      "Prediction: 100.000000% Correct.\n"
     ]
    },
    {
     "data": {
      "image/png": "[encoded data removed]",
      "text/plain": [
       "<Figure size 432x288 with 1 Axes>"
      ]
     },
     "metadata": {
      "needs_background": "light"
     },
     "output_type": "display_data"
    }
   ],
   "source": [
    "#\n",
    "# build up an array of predictions\n",
    "#\n",
    "\n",
    "vals=[]\n",
    "for i in range(len(xt)):\n",
    "    vals.append((xt[i,1],xt[i,2],model.predict(np.array([xt[i]])),yt[i]))\n",
    "\n",
    "z=np.array(vals,).T\n",
    "\n",
    "#\n",
    "# get outputs\n",
    "#\n",
    "\n",
    "gr=z[2]>=0.0\n",
    "lt=np.invert(gr)\n",
    "\n",
    "#\n",
    "# plot outputs\n",
    "#\n",
    "\n",
    "plt.plot(z[0,gr],z[1,gr],'bx',label=\"Predict Yes\") # show predictions of model with red and blue 'x's\n",
    "plt.plot(z[0,lt],z[1,lt],'rx',label=\"Predict No\")\n",
    "\n",
    "#\n",
    "# get original data\n",
    "#\n",
    "\n",
    "gr=z[3]>=0.0\n",
    "lt=np.invert(gr)\n",
    "\n",
    "#\n",
    "# plot original data\n",
    "#\n",
    "\n",
    "plt.xlim(min(xt[:,1])-.5,max(xt[:,1])+.5)\n",
    "plt.ylim(min(xt[:,2])-.5,max(xt[:,2])+.5)\n",
    "\n",
    "#\n",
    "# decorate with labels etc.\n",
    "#\n",
    "\n",
    "plt.plot(z[0,gr],z[1,gr],'b.',label=\"Data Yes\") # show actual data with red and blue dots\n",
    "plt.plot(z[0,lt],z[1,lt],'r.',label=\"Data No\")\n",
    "plt.legend(loc=2)\n",
    "plt.xlabel(\"Petal Length\")\n",
    "plt.ylabel(\"Petal Width\")\n",
    "plt.title(\"Species is Versi?, Prediction vs Data\")\n",
    "plt.grid()\n",
    "\n",
    "#\n",
    "# final success rate on test\n",
    "#\n",
    "\n",
    "print(\"Prediction: %f%% Correct.\" % (((z[2]>0)==(z[3]>0)).sum()*100/len(z[1])))"
   ]
  },
  {
   "cell_type": "code",
   "execution_count": null,
   "metadata": {},
   "outputs": [],
   "source": []
  }
 ],
 "metadata": {
  "colab": {
   "collapsed_sections": [],
   "name": "TestML",
   "provenance": [],
   "version": "0.3.2"
  },
  "kernelspec": {
   "display_name": "Python 3",
   "language": "python",
   "name": "python3"
  },
  "language_info": {
   "codemirror_mode": {
    "name": "ipython",
    "version": 3
   },
   "file_extension": ".py",
   "mimetype": "text/x-python",
   "name": "python",
   "nbconvert_exporter": "python",
   "pygments_lexer": "ipython3",
   "version": "3.8.5"
  }
 },
 "nbformat": 4,
 "nbformat_minor": 1
}
